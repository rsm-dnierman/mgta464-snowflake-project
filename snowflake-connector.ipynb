{
 "cells": [
  {
   "cell_type": "code",
   "execution_count": 2,
   "id": "2ef6d2f7",
   "metadata": {},
   "outputs": [],
   "source": [
    "# Import necessary libraries\n",
    "import snowflake.connector\n",
    "import glob\n",
    "from tqdm import tqdm  # Import tqdm for progress bar"
   ]
  },
  {
   "cell_type": "code",
   "execution_count": 7,
   "id": "fa9b31df",
   "metadata": {},
   "outputs": [],
   "source": [
    "# Snowflake connection parameters\n",
    "ACCOUNT = \"voucimo-atb07951\"\n",
    "USER = \"DNIERMAN\"  # Update with your Snowflake username!\n",
    "PASSWORD = \"OnyxTheGreat2!\"  # update with your Snowflake password!\n",
    "WAREHOUSE = \"purchase_orders_wh\"\n",
    "DATABASE = \"purchase_orders_db\"\n",
    "SCHEMA = \"purchase_orders_schema\"\n",
    "TABLE = \"purchase_orders\"\n",
    "CSV_DIR = \"./Data/Monthly_PO_Data\"\n",
    "STAGE = \"monthly_po_stage\"\n",
    "FILE_FMT = \"MONTHLY_PO_CSV_FMT\"\n"
   ]
  },
  {
   "cell_type": "code",
   "execution_count": 8,
   "id": "9fa8c5ed",
   "metadata": {},
   "outputs": [],
   "source": [
    "# Snowflake connection\n",
    "conn = snowflake.connector.connect(user=USER, password=PASSWORD, account=ACCOUNT)\n",
    "cs = conn.cursor()"
   ]
  },
  {
   "cell_type": "code",
   "execution_count": 10,
   "id": "62662468",
   "metadata": {},
   "outputs": [
    {
     "name": "stdout",
     "output_type": "stream",
     "text": [
      "✅ Warehouse 'purchase_orders_wh' created or replaced.\n",
      "✅ Database 'purchase_orders_db' created or replaced.\n",
      "✅ Schema 'purchase_orders_schema' created or replaced in database 'purchase_orders_db'.\n",
      "Stage 'monthly_po_stage' created or replaced in schema 'purchase_orders_schema' of database 'purchase_orders_db'.\n"
     ]
    }
   ],
   "source": [
    "# Create Snowflake warehouse, database, schema and staging area\n",
    "try:\n",
    "    # Create a warehouse\n",
    "    cs.execute(f\"CREATE WAREHOUSE IF NOT EXISTS {WAREHOUSE};\")\n",
    "    print(f\"✅ Warehouse '{WAREHOUSE}' created or replaced.\")\n",
    "except Exception as e:\n",
    "    print(f\"❌ Failed to create warehouse '{WAREHOUSE}': {e}\")\n",
    "\n",
    "try:\n",
    "    # Create a database\n",
    "    cs.execute(f\"CREATE OR REPLACE DATABASE {DATABASE};\")\n",
    "    print(f\"✅ Database '{DATABASE}' created or replaced.\")\n",
    "except Exception as e:\n",
    "    print(f\"❌ Failed to create database '{DATABASE}': {e}\")\n",
    "\n",
    "try:\n",
    "    # Create a schema\n",
    "    cs.execute(f\"CREATE OR REPLACE SCHEMA {DATABASE}.{SCHEMA};\")\n",
    "    print(f\"✅ Schema '{SCHEMA}' created or replaced in database '{DATABASE}'.\")\n",
    "except Exception as e:\n",
    "    print(f\"❌ Failed to create schema '{SCHEMA}' in database '{DATABASE}': {e}\")\n",
    "\n",
    "try:\n",
    "    # Create a staging area in Snowflake\n",
    "    cs.execute(f\"CREATE OR REPLACE STAGE {DATABASE}.{SCHEMA}.{STAGE};\")\n",
    "    print(\n",
    "        f\"Stage '{STAGE}' created or replaced in schema '{SCHEMA}' of database '{DATABASE}'.\"\n",
    "    )\n",
    "except Exception as e:\n",
    "    print(\n",
    "        f\"❌ Failed to create stage '{STAGE}' in schema '{SCHEMA}' of database '{DATABASE}': {e}\"\n",
    "    )\n"
   ]
  },
  {
   "cell_type": "code",
   "execution_count": 11,
   "id": "6386d9e8",
   "metadata": {},
   "outputs": [
    {
     "name": "stderr",
     "output_type": "stream",
     "text": [
      "Uploading files: 100%|██████████| 41/41 [00:14<00:00,  2.75file/s]"
     ]
    },
    {
     "name": "stdout",
     "output_type": "stream",
     "text": [
      "\n",
      "All files uploaded successfully.\n"
     ]
    },
    {
     "name": "stderr",
     "output_type": "stream",
     "text": [
      "\n"
     ]
    }
   ],
   "source": [
    "# Upload to Snowflake stage\n",
    "\n",
    "# Path to the CSV files\n",
    "csv_files = glob.glob(f\"{CSV_DIR}/*.csv\")\n",
    "\n",
    "# Check if any CSV files were found\n",
    "if not csv_files:\n",
    "    print(\"No CSV files found in the specified directory.\")\n",
    "else:\n",
    "    failed_uploads = []  # List to store files that failed to upload\n",
    "\n",
    "    # Use tqdm to create a progress bar\n",
    "    for file_path in tqdm(csv_files, desc=\"Uploading files\", unit=\"file\"):\n",
    "        put_command = (\n",
    "            f\"PUT 'file://{file_path}' @{DATABASE}.{SCHEMA}.{STAGE} OVERWRITE = TRUE\"\n",
    "        )\n",
    "        try:\n",
    "            cs.execute(put_command)\n",
    "        except Exception as upload_error:\n",
    "            failed_uploads.append((file_path, str(upload_error)))\n",
    "\n",
    "    # Print summary of failed uploads\n",
    "    if failed_uploads:\n",
    "        print(\"\\nThe following files failed to upload:\")\n",
    "        for file_path, error in failed_uploads:\n",
    "            print(f\"  - {file_path}: {error}\")\n",
    "    else:\n",
    "        print(\"\\nAll files uploaded successfully.\")\n"
   ]
  },
  {
   "cell_type": "code",
   "execution_count": 13,
   "id": "bfa967c5",
   "metadata": {},
   "outputs": [
    {
     "name": "stdout",
     "output_type": "stream",
     "text": [
      "Table created successfully!\n"
     ]
    }
   ],
   "source": [
    "try:\n",
    "    cs.execute(f\"\"\"\n",
    "        CREATE OR REPLACE TABLE {DATABASE}.{SCHEMA}.{TABLE} (\n",
    "            PurchaseOrderID INTEGER,\n",
    "            SupplierID INTEGER,\n",
    "            OrderDate DATE,\n",
    "            DeliveryMethodID INTEGER,\n",
    "            ContactPersonID INTEGER,\n",
    "            ExpectedDeliveryDate DATE,\n",
    "            SupplierReference STRING,\n",
    "            IsOrderFinalized BOOLEAN,\n",
    "            Comments STRING,\n",
    "            InternalComments STRING,\n",
    "            LastEditedBy INTEGER,\n",
    "            LastEditedWhen TIMESTAMP,\n",
    "            PurchaseOrderLineID INTEGER,\n",
    "            StockItemID INTEGER,\n",
    "            OrderedOuters INTEGER,\n",
    "            Description STRING,\n",
    "            ReceivedOuters INTEGER,\n",
    "            PackageTypeID INTEGER,\n",
    "            ExpectedUnitPricePerOuter FLOAT,\n",
    "            LastReceiptDate DATE,\n",
    "            IsOrderLineFinalized BOOLEAN,\n",
    "            Right_LastEditedBy INTEGER,\n",
    "            Right_LastEditedWhen TIMESTAMP\n",
    "        )\n",
    "    \"\"\")\n",
    "    print(\"Table created successfully!\")\n",
    "except Exception as e:\n",
    "    print(f\"Error creating table: {e}\")\n"
   ]
  },
  {
   "cell_type": "code",
   "execution_count": 27,
   "id": "efc1be0d",
   "metadata": {},
   "outputs": [
    {
     "name": "stdout",
     "output_type": "stream",
     "text": [
      "File format created (CSV, SKIP_HEADER=1).\n"
     ]
    }
   ],
   "source": [
    "try:\n",
    "    cs.execute(f\"\"\"\n",
    "        CREATE OR REPLACE FILE FORMAT {DATABASE}.{SCHEMA}.{FILE_FMT}\n",
    "          TYPE = 'CSV'\n",
    "          SKIP_HEADER = 1\n",
    "          FIELD_DELIMITER = ','\n",
    "          FIELD_OPTIONALLY_ENCLOSED_BY = '\"'\n",
    "          NULL_IF = ('NULL','null')\n",
    "          EMPTY_FIELD_AS_NULL = TRUE\n",
    "          COMPRESSION = 'AUTO'\n",
    "          DATE_FORMAT = 'AUTO'\n",
    "          TIMESTAMP_FORMAT = 'AUTO'\n",
    "    \"\"\")\n",
    "    print(\"File format created (CSV, SKIP_HEADER=1).\")\n",
    "except Exception as e:\n",
    "    print(f\"Error creating file format: {e}\")\n"
   ]
  },
  {
   "cell_type": "code",
   "execution_count": null,
   "id": "26021eb0",
   "metadata": {},
   "outputs": [
    {
     "name": "stderr",
     "output_type": "stream",
     "text": [
      "Loading CSVs: 100%|██████████| 41/41 [00:00<00:00, 322638.77file/s]"
     ]
    },
    {
     "name": "stdout",
     "output_type": "stream",
     "text": [
      "\n",
      "✅ Success: 41 files loaded, matches 41 in stage.\n"
     ]
    },
    {
     "name": "stderr",
     "output_type": "stream",
     "text": [
      "\n"
     ]
    }
   ],
   "source": [
    "from tqdm import tqdm\n",
    "\n",
    "# Clear table first\n",
    "cs.execute(f\"TRUNCATE TABLE {DATABASE}.{SCHEMA}.{TABLE}\")\n",
    "\n",
    "# Count CSV files in stage\n",
    "cs.execute(f\"LIST @{DATABASE}.{SCHEMA}.{STAGE}\")\n",
    "stage_files = [\n",
    "    row[0] for row in cs.fetchall() if row[0].lower().endswith((\".csv\", \".csv.gz\"))\n",
    "]\n",
    "stage_count = len(stage_files)\n",
    "\n",
    "# COPY with explicit casts via SELECT\n",
    "copy_sql = f\"\"\"\n",
    "COPY INTO {DATABASE}.{SCHEMA}.{TABLE}\n",
    "(\n",
    "  PurchaseOrderID,\n",
    "  SupplierID,\n",
    "  OrderDate,\n",
    "  DeliveryMethodID,\n",
    "  ContactPersonID,\n",
    "  ExpectedDeliveryDate,\n",
    "  SupplierReference,\n",
    "  IsOrderFinalized,\n",
    "  Comments,\n",
    "  InternalComments,\n",
    "  LastEditedBy,\n",
    "  LastEditedWhen,\n",
    "  PurchaseOrderLineID,\n",
    "  StockItemID,\n",
    "  OrderedOuters,\n",
    "  Description,\n",
    "  ReceivedOuters,\n",
    "  PackageTypeID,\n",
    "  ExpectedUnitPricePerOuter,\n",
    "  LastReceiptDate,\n",
    "  IsOrderLineFinalized,\n",
    "  Right_LastEditedBy,\n",
    "  Right_LastEditedWhen\n",
    ")\n",
    "FROM (\n",
    "  SELECT\n",
    "    $1::INT  AS PurchaseOrderID,                -- Example: 1\n",
    "    $2::INT  AS SupplierID,                     -- Example: 2\n",
    "\n",
    "    -- OrderDate ($3) with invalid-date fallback for leap years\n",
    "    CASE\n",
    "  WHEN REPLACE(TRIM(SPLIT_PART($3, ' ', 1)), '\\r','') = '2/29/2022'\n",
    "    THEN TO_DATE('2/28/2022', 'MM/DD/YYYY')\n",
    "  ELSE TO_DATE(REPLACE(TRIM(SPLIT_PART($3, ' ', 1)), '\\r',''), 'MM/DD/YYYY')\n",
    "END AS OrderDate,\n",
    "\n",
    "    $4::INT  AS DeliveryMethodID,               -- Example: 9\n",
    "    $5::INT  AS ContactPersonID,                -- Example: 2\n",
    "\n",
    "    -- ExpectedDeliveryDate ($6) with invalid-date fallback for leap years\n",
    "    CASE\n",
    "  WHEN REPLACE(TRIM(SPLIT_PART($6, ' ', 1)), '\\r','') = '2/29/2022'\n",
    "    THEN TO_DATE('2/28/2022', 'MM/DD/YYYY')\n",
    "  ELSE TO_DATE(REPLACE(TRIM(SPLIT_PART($6, ' ', 1)), '\\r',''), 'MM/DD/YYYY')\n",
    "END AS ExpectedDeliveryDate,\n",
    "\n",
    "    $7       AS SupplierReference,              -- Example: B2084020\n",
    "    ($8 IN ('1','TRUE','true'))::BOOLEAN AS IsOrderFinalized, -- Example: 1 → TRUE\n",
    "    $9       AS Comments,                       -- Example: NULL\n",
    "    $10      AS InternalComments,               -- Example: NULL\n",
    "    $11::INT AS LastEditedBy,                   -- Example: 6\n",
    "\n",
    "    -- Timestamps cleaned\n",
    "    TRY_TO_TIMESTAMP_NTZ(REPLACE(TRIM($12), '\\r','')) AS LastEditedWhen,   -- Example: 1/2/2019 7:00\n",
    "\n",
    "    $13::INT AS PurchaseOrderLineID,            -- Example: 1\n",
    "    $14::INT AS StockItemID,                    -- Example: 150\n",
    "    $15::INT AS OrderedOuters,                  -- Example: 18\n",
    "    $16      AS Description,                    -- Example: Pack of 12 action figures (variety)\n",
    "    $17::INT AS ReceivedOuters,                 -- Example: 18\n",
    "    $18::INT AS PackageTypeID,                  -- Example: 9\n",
    "    $19::FLOAT AS ExpectedUnitPricePerOuter,    -- Example: 5.5\n",
    "\n",
    "    -- LastReceiptDate ($20) with invalid-date fallback for leap years\n",
    "    CASE\n",
    "  WHEN REPLACE(TRIM(SPLIT_PART($20, ' ', 1)), '\\r','') = '2/29/2022'\n",
    "    THEN TO_DATE('2/28/2022', 'MM/DD/YYYY')\n",
    "  ELSE TO_DATE(REPLACE(TRIM(SPLIT_PART($20, ' ', 1)), '\\r',''), 'MM/DD/YYYY')\n",
    "END AS LastReceiptDate,\n",
    "\n",
    "    ($21 IN ('1','TRUE','true'))::BOOLEAN AS IsOrderLineFinalized, -- Example: 1 → TRUE\n",
    "    $22::INT AS Right_LastEditedBy,             -- Example: 6\n",
    "    TRY_TO_TIMESTAMP_NTZ(REPLACE(TRIM($23), '\\r','')) AS Right_LastEditedWhen  -- Example: 1/2/2019 7:00\n",
    "  FROM @{DATABASE}.{SCHEMA}.{STAGE} (\n",
    "    FILE_FORMAT => '{DATABASE}.{SCHEMA}.{FILE_FMT}',\n",
    "    PATTERN => '.*\\\\.csv(\\\\.gz)?$'\n",
    "  )\n",
    ")\n",
    "\n",
    "ON_ERROR = 'ABORT_STATEMENT';\n",
    "\"\"\"\n",
    "try:\n",
    "    cs.execute(copy_sql)\n",
    "\n",
    "    # Fetch COPY results (one row per file)\n",
    "    copy_results = []\n",
    "    with tqdm(total=stage_count, desc=\"Loading CSVs\", unit=\"file\") as pbar:\n",
    "        while True:\n",
    "            row = cs.fetchone()\n",
    "            if not row:\n",
    "                break\n",
    "            copy_results.append(row)\n",
    "            pbar.update(1)\n",
    "\n",
    "    load_count = len(copy_results)\n",
    "    if load_count == stage_count:\n",
    "        print(\n",
    "            f\"\\n✅ Success: {load_count} files loaded, matches {stage_count} in stage.\"\n",
    "        )\n",
    "    else:\n",
    "        print(f\"\\n⚠️ Mismatch: {load_count} loaded vs {stage_count} files in stage.\")\n",
    "\n",
    "except Exception as e:\n",
    "    print(f\"❌ Error running COPY INTO: {e}\")\n"
   ]
  }
 ],
 "metadata": {
  "kernelspec": {
   "display_name": "base-uv",
   "language": "python",
   "name": "python3"
  },
  "language_info": {
   "codemirror_mode": {
    "name": "ipython",
    "version": 3
   },
   "file_extension": ".py",
   "mimetype": "text/x-python",
   "name": "python",
   "nbconvert_exporter": "python",
   "pygments_lexer": "ipython3",
   "version": "3.12.11"
  }
 },
 "nbformat": 4,
 "nbformat_minor": 5
}
