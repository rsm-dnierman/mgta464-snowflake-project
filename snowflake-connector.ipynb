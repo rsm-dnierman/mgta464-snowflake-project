{
 "cells": [
  {
   "cell_type": "code",
   "execution_count": 38,
   "id": "2ef6d2f7",
   "metadata": {},
   "outputs": [],
   "source": [
    "# Import necessary libraries\n",
    "import snowflake.connector\n",
    "import glob\n",
    "from tqdm import tqdm  # Import tqdm for progress bar"
   ]
  },
  {
   "cell_type": "code",
   "execution_count": null,
   "id": "fa9b31df",
   "metadata": {},
   "outputs": [],
   "source": [
    "# Snowflake connection parameters\n",
    "ACCOUNT = \"voucimo-atb07951\"\n",
    "USER = \"DNIERMAN\"  # Update with your Snowflake username!\n",
    "PASSWORD = \"JustTryAnd190!\"  # update with your Snowflake password!\n",
    "WAREHOUSE = \"purchase_orders_wh\"\n",
    "DATABASE = \"purchase_orders_db\"\n",
    "SCHEMA = \"purchase_orders_schema\"\n",
    "TABLE = \"purchase_orders\"\n",
    "CSV_DIR = \"./Data/Monthly_PO_Data\"\n",
    "STAGE = \"monthly_po_stage\"\n",
    "FILE_FMT = \"MONTHLY_PO_CSV_FMT\"\n"
   ]
  },
  {
   "cell_type": "code",
   "execution_count": 40,
   "id": "9fa8c5ed",
   "metadata": {},
   "outputs": [],
   "source": [
    "# Snowflake connection\n",
    "conn = snowflake.connector.connect(user=USER, password=PASSWORD, account=ACCOUNT)\n",
    "cs = conn.cursor()"
   ]
  },
  {
   "cell_type": "code",
   "execution_count": 41,
   "id": "62662468",
   "metadata": {},
   "outputs": [
    {
     "name": "stdout",
     "output_type": "stream",
     "text": [
      "✅ Warehouse 'purchase_orders_wh' created or replaced.\n",
      "✅ Database 'purchase_orders_db' created or replaced.\n",
      "✅ Schema 'purchase_orders_schema' created or replaced in database 'purchase_orders_db'.\n",
      "Stage 'monthly_po_stage' created or replaced in schema 'purchase_orders_schema' of database 'purchase_orders_db'.\n"
     ]
    }
   ],
   "source": [
    "# Create Snowflake warehouse, database, schema and staging area\n",
    "try:\n",
    "    # Create a warehouse\n",
    "    cs.execute(f\"CREATE WAREHOUSE IF NOT EXISTS {WAREHOUSE};\")\n",
    "    print(f\"✅ Warehouse '{WAREHOUSE}' created or replaced.\")\n",
    "except Exception as e:\n",
    "    print(f\"❌ Failed to create warehouse '{WAREHOUSE}': {e}\")\n",
    "\n",
    "try:\n",
    "    # Create a database\n",
    "    cs.execute(f\"CREATE OR REPLACE DATABASE {DATABASE};\")\n",
    "    print(f\"✅ Database '{DATABASE}' created or replaced.\")\n",
    "except Exception as e:\n",
    "    print(f\"❌ Failed to create database '{DATABASE}': {e}\")\n",
    "\n",
    "try:\n",
    "    # Create a schema\n",
    "    cs.execute(f\"CREATE OR REPLACE SCHEMA {DATABASE}.{SCHEMA};\")\n",
    "    print(f\"✅ Schema '{SCHEMA}' created or replaced in database '{DATABASE}'.\")\n",
    "except Exception as e:\n",
    "    print(f\"❌ Failed to create schema '{SCHEMA}' in database '{DATABASE}': {e}\")\n",
    "\n",
    "try:\n",
    "    # Create a staging area in Snowflake\n",
    "    cs.execute(f\"CREATE OR REPLACE STAGE {DATABASE}.{SCHEMA}.{STAGE};\")\n",
    "    print(\n",
    "        f\"Stage '{STAGE}' created or replaced in schema '{SCHEMA}' of database '{DATABASE}'.\"\n",
    "    )\n",
    "except Exception as e:\n",
    "    print(\n",
    "        f\"❌ Failed to create stage '{STAGE}' in schema '{SCHEMA}' of database '{DATABASE}': {e}\"\n",
    "    )\n"
   ]
  },
  {
   "cell_type": "code",
   "execution_count": 42,
   "id": "6386d9e8",
   "metadata": {},
   "outputs": [
    {
     "name": "stderr",
     "output_type": "stream",
     "text": [
      "Uploading files:   0%|          | 0/41 [00:00<?, ?file/s]"
     ]
    },
    {
     "name": "stderr",
     "output_type": "stream",
     "text": [
      "Uploading files: 100%|██████████| 41/41 [00:15<00:00,  2.67file/s]"
     ]
    },
    {
     "name": "stdout",
     "output_type": "stream",
     "text": [
      "\n",
      "All files uploaded successfully.\n"
     ]
    },
    {
     "name": "stderr",
     "output_type": "stream",
     "text": [
      "\n"
     ]
    }
   ],
   "source": [
    "# Upload to Snowflake stage\n",
    "\n",
    "# Path to the CSV files\n",
    "csv_files = glob.glob(f\"{CSV_DIR}/*.csv\")\n",
    "\n",
    "# Check if any CSV files were found\n",
    "if not csv_files:\n",
    "    print(\"No CSV files found in the specified directory.\")\n",
    "else:\n",
    "    failed_uploads = []  # List to store files that failed to upload\n",
    "\n",
    "    # Use tqdm to create a progress bar\n",
    "    for file_path in tqdm(csv_files, desc=\"Uploading files\", unit=\"file\"):\n",
    "        put_command = (\n",
    "            f\"PUT 'file://{file_path}' @{DATABASE}.{SCHEMA}.{STAGE} OVERWRITE = TRUE\"\n",
    "        )\n",
    "        try:\n",
    "            cs.execute(put_command)\n",
    "        except Exception as upload_error:\n",
    "            failed_uploads.append((file_path, str(upload_error)))\n",
    "\n",
    "    # Print summary of failed uploads\n",
    "    if failed_uploads:\n",
    "        print(\"\\nThe following files failed to upload:\")\n",
    "        for file_path, error in failed_uploads:\n",
    "            print(f\"  - {file_path}: {error}\")\n",
    "    else:\n",
    "        print(\"\\nAll files uploaded successfully.\")\n"
   ]
  },
  {
   "cell_type": "code",
   "execution_count": 61,
   "id": "bfa967c5",
   "metadata": {},
   "outputs": [
    {
     "name": "stdout",
     "output_type": "stream",
     "text": [
      "Table created successfully!\n"
     ]
    }
   ],
   "source": [
    "try:\n",
    "    cs.execute(f\"\"\"\n",
    "        CREATE OR REPLACE TABLE {DATABASE}.{SCHEMA}.{TABLE} (\n",
    "            PurchaseOrderID INTEGER,\n",
    "            SupplierID INTEGER,\n",
    "            OrderDate DATE,\n",
    "            DeliveryMethodID INTEGER,\n",
    "            ContactPersonID INTEGER,\n",
    "            ExpectedDeliveryDate DATE,\n",
    "            SupplierReference STRING,\n",
    "            IsOrderFinalized BOOLEAN,\n",
    "            Comments STRING,\n",
    "            InternalComments STRING,\n",
    "            LastEditedBy INTEGER,\n",
    "            LastEditedWhen TIMESTAMP,\n",
    "            PurchaseOrderLineID INTEGER,\n",
    "            StockItemID INTEGER,\n",
    "            OrderedOuters INTEGER,\n",
    "            Description STRING,\n",
    "            ReceivedOuters INTEGER,\n",
    "            PackageTypeID INTEGER,\n",
    "            ExpectedUnitPricePerOuter FLOAT,\n",
    "            LastReceiptDate DATE,\n",
    "            IsOrderLineFinalized BOOLEAN,\n",
    "            Right_LastEditedBy INTEGER,\n",
    "            Right_LastEditedWhen TIMESTAMP\n",
    "        )\n",
    "    \"\"\")\n",
    "    print(\"Table created successfully!\")\n",
    "except Exception as e:\n",
    "    print(f\"Error creating table: {e}\")\n"
   ]
  },
  {
   "cell_type": "code",
   "execution_count": 64,
   "id": "efc1be0d",
   "metadata": {},
   "outputs": [
    {
     "name": "stdout",
     "output_type": "stream",
     "text": [
      "File format updated with PARSE_HEADER=TRUE.\n"
     ]
    }
   ],
   "source": [
    "try:\n",
    "    cs.execute(f\"\"\"\n",
    "        CREATE OR REPLACE FILE FORMAT {DATABASE}.{SCHEMA}.{FILE_FMT}\n",
    "        TYPE = 'CSV'\n",
    "        FIELD_DELIMITER = ','\n",
    "        FIELD_OPTIONALLY_ENCLOSED_BY = '\"'\n",
    "        PARSE_HEADER = TRUE\n",
    "        NULL_IF = ('NULL', 'null')\n",
    "        EMPTY_FIELD_AS_NULL = TRUE\n",
    "        COMPRESSION = 'AUTO'\n",
    "        DATE_FORMAT = 'MM/DD/YYYY'\n",
    "        TIMESTAMP_FORMAT = 'MM/DD/YYYY HH24:MI'\n",
    "    \"\"\")\n",
    "    print(\"File format updated with PARSE_HEADER=TRUE.\")\n",
    "except Exception as e:\n",
    "    print(f\"Error creating file format: {e}\")\n"
   ]
  },
  {
   "cell_type": "code",
   "execution_count": 65,
   "id": "259b834a",
   "metadata": {},
   "outputs": [
    {
     "name": "stdout",
     "output_type": "stream",
     "text": [
      "COPY INTO executed successfully!\n"
     ]
    }
   ],
   "source": [
    "try:\n",
    "    cs.execute(f\"\"\"\n",
    "        COPY INTO {DATABASE}.{SCHEMA}.{TABLE}\n",
    "        FROM @{DATABASE}.{SCHEMA}.{STAGE}\n",
    "        FILE_FORMAT = (FORMAT_NAME = '{DATABASE}.{SCHEMA}.{FILE_FMT}')\n",
    "        PATTERN = '.*\\\\.csv(\\\\.gz)?$'\n",
    "        MATCH_BY_COLUMN_NAME = CASE_INSENSITIVE\n",
    "        ON_ERROR = 'CONTINUE'\n",
    "    \"\"\")\n",
    "    print(\"COPY INTO executed successfully!\")\n",
    "except Exception as e:\n",
    "    print(f\"Error running COPY INTO: {e}\")\n"
   ]
  },
  {
   "cell_type": "code",
   "execution_count": 70,
   "id": "26021eb0",
   "metadata": {},
   "outputs": [
    {
     "name": "stderr",
     "output_type": "stream",
     "text": [
      "Loading CSVs: 100%|██████████| 41/41 [00:00<00:00, 260161.07file/s]"
     ]
    },
    {
     "name": "stdout",
     "output_type": "stream",
     "text": [
      "\n",
      "✅ Success: 41 files loaded, matches 41 in stage.\n"
     ]
    },
    {
     "name": "stderr",
     "output_type": "stream",
     "text": [
      "\n"
     ]
    }
   ],
   "source": [
    "from tqdm import tqdm\n",
    "\n",
    "# Clear table first\n",
    "cs.execute(f\"TRUNCATE TABLE {DATABASE}.{SCHEMA}.{TABLE}\")\n",
    "\n",
    "# Count CSV files in stage\n",
    "cs.execute(f\"LIST @{DATABASE}.{SCHEMA}.{STAGE}\")\n",
    "stage_files = [\n",
    "    row[0] for row in cs.fetchall() if row[0].lower().endswith((\".csv\", \".csv.gz\"))\n",
    "]\n",
    "stage_count = len(stage_files)\n",
    "\n",
    "# Run COPY and fetch results incrementally\n",
    "cs.execute(f\"\"\"\n",
    "    COPY INTO {DATABASE}.{SCHEMA}.{TABLE}\n",
    "    FROM @{DATABASE}.{SCHEMA}.{STAGE}\n",
    "    FILE_FORMAT = (FORMAT_NAME = '{DATABASE}.{SCHEMA}.{FILE_FMT}')\n",
    "    PATTERN = '.*\\\\.csv(\\\\.gz)?$'\n",
    "    MATCH_BY_COLUMN_NAME = CASE_INSENSITIVE\n",
    "    ON_ERROR = 'CONTINUE'\n",
    "\"\"\")\n",
    "\n",
    "copy_results = []\n",
    "with tqdm(total=stage_count, desc=\"Loading CSVs\", unit=\"file\") as pbar:\n",
    "    while True:\n",
    "        row = cs.fetchone()\n",
    "        if not row:\n",
    "            break\n",
    "        copy_results.append(row)\n",
    "        pbar.update(1)\n",
    "\n",
    "load_count = len(copy_results)\n",
    "\n",
    "# Simple check\n",
    "if load_count == stage_count:\n",
    "    print(f\"\\n✅ Success: {load_count} files loaded, matches {stage_count} in stage.\")\n",
    "else:\n",
    "    print(f\"\\n⚠️ Mismatch: {load_count} loaded vs {stage_count} files in stage.\")\n"
   ]
  }
 ],
 "metadata": {
  "kernelspec": {
   "display_name": "base-uv",
   "language": "python",
   "name": "python3"
  },
  "language_info": {
   "codemirror_mode": {
    "name": "ipython",
    "version": 3
   },
   "file_extension": ".py",
   "mimetype": "text/x-python",
   "name": "python",
   "nbconvert_exporter": "python",
   "pygments_lexer": "ipython3",
   "version": "3.12.11"
  }
 },
 "nbformat": 4,
 "nbformat_minor": 5
}
